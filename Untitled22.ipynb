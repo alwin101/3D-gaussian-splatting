{
  "nbformat": 4,
  "nbformat_minor": 0,
  "metadata": {
    "colab": {
      "provenance": [],
      "gpuType": "T4"
    },
    "kernelspec": {
      "name": "python3",
      "display_name": "Python 3"
    },
    "language_info": {
      "name": "python"
    },
    "accelerator": "GPU"
  },
  "cells": [
    {
      "cell_type": "code",
      "execution_count": 1,
      "metadata": {
        "colab": {
          "base_uri": "https://localhost:8080/"
        },
        "id": "ni8brMja1ccX",
        "outputId": "4ec4edf5-4e51-412b-a0f9-b515cc8d4fd4"
      },
      "outputs": [
        {
          "output_type": "stream",
          "name": "stdout",
          "text": [
            "Python: 3.11.13 (main, Jun  4 2025, 08:57:29) [GCC 11.4.0]\n",
            "Platform: Linux-6.1.123+-x86_64-with-glibc2.35\n",
            "CUDA available: True\n",
            "Sun Aug 17 07:03:41 2025       \n",
            "+-----------------------------------------------------------------------------------------+\n",
            "| NVIDIA-SMI 550.54.15              Driver Version: 550.54.15      CUDA Version: 12.4     |\n",
            "|-----------------------------------------+------------------------+----------------------+\n",
            "| GPU  Name                 Persistence-M | Bus-Id          Disp.A | Volatile Uncorr. ECC |\n",
            "| Fan  Temp   Perf          Pwr:Usage/Cap |           Memory-Usage | GPU-Util  Compute M. |\n",
            "|                                         |                        |               MIG M. |\n",
            "|=========================================+========================+======================|\n",
            "|   0  Tesla T4                       Off |   00000000:00:04.0 Off |                    0 |\n",
            "| N/A   40C    P8             10W /   70W |       2MiB /  15360MiB |      0%      Default |\n",
            "|                                         |                        |                  N/A |\n",
            "+-----------------------------------------+------------------------+----------------------+\n",
            "                                                                                         \n",
            "+-----------------------------------------------------------------------------------------+\n",
            "| Processes:                                                                              |\n",
            "|  GPU   GI   CI        PID   Type   Process name                              GPU Memory |\n",
            "|        ID   ID                                                               Usage      |\n",
            "|=========================================================================================|\n",
            "|  No running processes found                                                             |\n",
            "+-----------------------------------------------------------------------------------------+\n"
          ]
        }
      ],
      "source": [
        "# Check GPU\n",
        "import torch, platform, sys, subprocess, os\n",
        "print(\"Python:\", sys.version)\n",
        "print(\"Platform:\", platform.platform())\n",
        "print(\"CUDA available:\", torch.cuda.is_available())\n",
        "!nvidia-smi"
      ]
    },
    {
      "cell_type": "code",
      "source": [
        "%%bash\n",
        "rm -rf /content/gaussian-splatting\n",
        "git clone --recursive https://github.com/graphdeco-inria/gaussian-splatting.git /content/gaussian-splatting\n",
        "cd /content/gaussian-splatting\n",
        "git submodule update --init --recursive"
      ],
      "metadata": {
        "colab": {
          "base_uri": "https://localhost:8080/"
        },
        "id": "U_Uahyzt1x6j",
        "outputId": "efdb443b-3fa9-4f38-97a8-0d444f1467ca"
      },
      "execution_count": 5,
      "outputs": [
        {
          "output_type": "stream",
          "name": "stdout",
          "text": [
            "Submodule path 'SIBR_viewers': checked out 'd8856f60c5384cc1975439193bb627d77d917d77'\n",
            "Submodule path 'submodules/diff-gaussian-rasterization': checked out '9c5c2028f6fbee2be239bc4c9421ff894fe4fbe0'\n",
            "Submodule path 'submodules/diff-gaussian-rasterization/third_party/glm': checked out '5c46b9c07008ae65cb81ab79cd677ecc1934b903'\n",
            "Submodule path 'submodules/fused-ssim': checked out '1272e21a282342e89537159e4bad508b19b34157'\n",
            "Submodule path 'submodules/simple-knn': checked out '86710c2d4b46680c02301765dd79e465819c8f19'\n"
          ]
        },
        {
          "output_type": "stream",
          "name": "stderr",
          "text": [
            "Cloning into '/content/gaussian-splatting'...\n",
            "Submodule 'SIBR_viewers' (https://gitlab.inria.fr/sibr/sibr_core.git) registered for path 'SIBR_viewers'\n",
            "Submodule 'submodules/diff-gaussian-rasterization' (https://github.com/graphdeco-inria/diff-gaussian-rasterization.git) registered for path 'submodules/diff-gaussian-rasterization'\n",
            "Submodule 'submodules/fused-ssim' (https://github.com/rahul-goel/fused-ssim.git) registered for path 'submodules/fused-ssim'\n",
            "Submodule 'submodules/simple-knn' (https://gitlab.inria.fr/bkerbl/simple-knn.git) registered for path 'submodules/simple-knn'\n",
            "Cloning into '/content/gaussian-splatting/SIBR_viewers'...\n",
            "Cloning into '/content/gaussian-splatting/submodules/diff-gaussian-rasterization'...\n",
            "Cloning into '/content/gaussian-splatting/submodules/fused-ssim'...\n",
            "Cloning into '/content/gaussian-splatting/submodules/simple-knn'...\n",
            "Submodule 'third_party/glm' (https://github.com/g-truc/glm.git) registered for path 'submodules/diff-gaussian-rasterization/third_party/glm'\n",
            "Cloning into '/content/gaussian-splatting/submodules/diff-gaussian-rasterization/third_party/glm'...\n"
          ]
        }
      ]
    },
    {
      "cell_type": "code",
      "source": [
        "%%bash\n",
        "set -e\n",
        "pip install --upgrade pip wheel setuptools ninja\n",
        "pip install plyfile tqdm tensorboard\n",
        "cd /content/gaussian-splatting\n",
        "pip install ./submodules/diff-gaussian-rasterization\n",
        "pip install ./submodules/simple-knn\n",
        "pip install ./submodules/fused-ssim || true"
      ],
      "metadata": {
        "colab": {
          "base_uri": "https://localhost:8080/"
        },
        "id": "ZJlt8Lp81zh8",
        "outputId": "0a7b3546-d31e-48c6-cd86-f15864c8cfad"
      },
      "execution_count": 6,
      "outputs": [
        {
          "output_type": "stream",
          "name": "stdout",
          "text": [
            "Requirement already satisfied: pip in /usr/local/lib/python3.11/dist-packages (24.1.2)\n",
            "Collecting pip\n",
            "  Downloading pip-25.2-py3-none-any.whl.metadata (4.7 kB)\n",
            "Requirement already satisfied: wheel in /usr/local/lib/python3.11/dist-packages (0.45.1)\n",
            "Requirement already satisfied: setuptools in /usr/local/lib/python3.11/dist-packages (75.2.0)\n",
            "Collecting setuptools\n",
            "  Downloading setuptools-80.9.0-py3-none-any.whl.metadata (6.6 kB)\n",
            "Collecting ninja\n",
            "  Downloading ninja-1.13.0-py3-none-manylinux2014_x86_64.manylinux_2_17_x86_64.whl.metadata (5.1 kB)\n",
            "Downloading pip-25.2-py3-none-any.whl (1.8 MB)\n",
            "   ━━━━━━━━━━━━━━━━━━━━━━━━━━━━━━━━━━━━━━━━ 1.8/1.8 MB 30.5 MB/s eta 0:00:00\n",
            "Downloading setuptools-80.9.0-py3-none-any.whl (1.2 MB)\n",
            "   ━━━━━━━━━━━━━━━━━━━━━━━━━━━━━━━━━━━━━━━━ 1.2/1.2 MB 75.2 MB/s eta 0:00:00\n",
            "Downloading ninja-1.13.0-py3-none-manylinux2014_x86_64.manylinux_2_17_x86_64.whl (180 kB)\n",
            "   ━━━━━━━━━━━━━━━━━━━━━━━━━━━━━━━━━━━━━━━━ 180.7/180.7 kB 16.8 MB/s eta 0:00:00\n",
            "Installing collected packages: setuptools, pip, ninja\n",
            "  Attempting uninstall: setuptools\n",
            "    Found existing installation: setuptools 75.2.0\n",
            "    Uninstalling setuptools-75.2.0:\n",
            "      Successfully uninstalled setuptools-75.2.0\n",
            "  Attempting uninstall: pip\n",
            "    Found existing installation: pip 24.1.2\n",
            "    Uninstalling pip-24.1.2:\n",
            "      Successfully uninstalled pip-24.1.2\n",
            "Successfully installed ninja-1.13.0 pip-25.2 setuptools-80.9.0\n",
            "Collecting plyfile\n",
            "  Downloading plyfile-1.1.2-py3-none-any.whl.metadata (43 kB)\n",
            "Requirement already satisfied: tqdm in /usr/local/lib/python3.11/dist-packages (4.67.1)\n",
            "Requirement already satisfied: tensorboard in /usr/local/lib/python3.11/dist-packages (2.19.0)\n",
            "Requirement already satisfied: numpy>=1.21 in /usr/local/lib/python3.11/dist-packages (from plyfile) (2.0.2)\n",
            "Requirement already satisfied: absl-py>=0.4 in /usr/local/lib/python3.11/dist-packages (from tensorboard) (1.4.0)\n",
            "Requirement already satisfied: grpcio>=1.48.2 in /usr/local/lib/python3.11/dist-packages (from tensorboard) (1.74.0)\n",
            "Requirement already satisfied: markdown>=2.6.8 in /usr/local/lib/python3.11/dist-packages (from tensorboard) (3.8.2)\n",
            "Requirement already satisfied: packaging in /usr/local/lib/python3.11/dist-packages (from tensorboard) (25.0)\n",
            "Requirement already satisfied: protobuf!=4.24.0,>=3.19.6 in /usr/local/lib/python3.11/dist-packages (from tensorboard) (5.29.5)\n",
            "Requirement already satisfied: setuptools>=41.0.0 in /usr/local/lib/python3.11/dist-packages (from tensorboard) (80.9.0)\n",
            "Requirement already satisfied: six>1.9 in /usr/local/lib/python3.11/dist-packages (from tensorboard) (1.17.0)\n",
            "Requirement already satisfied: tensorboard-data-server<0.8.0,>=0.7.0 in /usr/local/lib/python3.11/dist-packages (from tensorboard) (0.7.2)\n",
            "Requirement already satisfied: werkzeug>=1.0.1 in /usr/local/lib/python3.11/dist-packages (from tensorboard) (3.1.3)\n",
            "Requirement already satisfied: MarkupSafe>=2.1.1 in /usr/local/lib/python3.11/dist-packages (from werkzeug>=1.0.1->tensorboard) (3.0.2)\n",
            "Downloading plyfile-1.1.2-py3-none-any.whl (36 kB)\n",
            "Installing collected packages: plyfile\n",
            "Successfully installed plyfile-1.1.2\n",
            "Processing ./submodules/diff-gaussian-rasterization\n",
            "  Preparing metadata (setup.py): started\n",
            "  Preparing metadata (setup.py): finished with status 'done'\n",
            "Building wheels for collected packages: diff_gaussian_rasterization\n",
            "  Building wheel for diff_gaussian_rasterization (setup.py): started\n",
            "  Building wheel for diff_gaussian_rasterization (setup.py): finished with status 'done'\n",
            "  Created wheel for diff_gaussian_rasterization: filename=diff_gaussian_rasterization-0.0.0-cp311-cp311-linux_x86_64.whl size=3349545 sha256=0d75e1d02a5a24f3f0109a13e4955aa7b55b553f08bd9117d418513c926e9d1f\n",
            "  Stored in directory: /root/.cache/pip/wheels/d3/71/6a/2819f27db685a5ef06993166d0a6a1efb020245603f2f33da7\n",
            "Successfully built diff_gaussian_rasterization\n",
            "Installing collected packages: diff_gaussian_rasterization\n",
            "Successfully installed diff_gaussian_rasterization-0.0.0\n",
            "Processing ./submodules/simple-knn\n",
            "  Preparing metadata (setup.py): started\n",
            "  Preparing metadata (setup.py): finished with status 'done'\n",
            "Building wheels for collected packages: simple_knn\n",
            "  Building wheel for simple_knn (setup.py): started\n",
            "  Building wheel for simple_knn (setup.py): finished with status 'done'\n",
            "  Created wheel for simple_knn: filename=simple_knn-0.0.0-cp311-cp311-linux_x86_64.whl size=3104779 sha256=79d45ad5468685396d90208aa06708bda45fb1b7f36250c155250d6a27f636cb\n",
            "  Stored in directory: /root/.cache/pip/wheels/db/0b/36/0f52647369b0e045f9a502b93e62051a2085d404ce211bead6\n",
            "Successfully built simple_knn\n",
            "Installing collected packages: simple_knn\n",
            "Successfully installed simple_knn-0.0.0\n",
            "Processing ./submodules/fused-ssim\n",
            "  Preparing metadata (setup.py): started\n",
            "  Preparing metadata (setup.py): finished with status 'done'\n",
            "Building wheels for collected packages: fused_ssim\n",
            "  Building wheel for fused_ssim (setup.py): started\n",
            "  Building wheel for fused_ssim (setup.py): finished with status 'done'\n",
            "  Created wheel for fused_ssim: filename=fused_ssim-0.0.0-cp311-cp311-linux_x86_64.whl size=2812858 sha256=ca7d04387381c8b2d200a746b757abc8950471deb8dd2ae5337eb8ecc22b06c6\n",
            "  Stored in directory: /root/.cache/pip/wheels/98/eb/81/2f3b330a667419e6f0ad1b3c639bd847d36548403810975739\n",
            "Successfully built fused_ssim\n",
            "Installing collected packages: fused_ssim\n",
            "Successfully installed fused_ssim-0.0.0\n"
          ]
        },
        {
          "output_type": "stream",
          "name": "stderr",
          "text": [
            "ERROR: pip's dependency resolver does not currently take into account all the packages that are installed. This behaviour is the source of the following dependency conflicts.\n",
            "ipython 7.34.0 requires jedi>=0.16, which is not installed.\n",
            "  DEPRECATION: Building 'diff_gaussian_rasterization' using the legacy setup.py bdist_wheel mechanism, which will be removed in a future version. pip 25.3 will enforce this behaviour change. A possible replacement is to use the standardized build interface by setting the `--use-pep517` option, (possibly combined with `--no-build-isolation`), or adding a `pyproject.toml` file to the source tree of 'diff_gaussian_rasterization'. Discussion can be found at https://github.com/pypa/pip/issues/6334\n",
            "  DEPRECATION: Building 'simple_knn' using the legacy setup.py bdist_wheel mechanism, which will be removed in a future version. pip 25.3 will enforce this behaviour change. A possible replacement is to use the standardized build interface by setting the `--use-pep517` option, (possibly combined with `--no-build-isolation`), or adding a `pyproject.toml` file to the source tree of 'simple_knn'. Discussion can be found at https://github.com/pypa/pip/issues/6334\n",
            "  DEPRECATION: Building 'fused_ssim' using the legacy setup.py bdist_wheel mechanism, which will be removed in a future version. pip 25.3 will enforce this behaviour change. A possible replacement is to use the standardized build interface by setting the `--use-pep517` option, (possibly combined with `--no-build-isolation`), or adding a `pyproject.toml` file to the source tree of 'fused_ssim'. Discussion can be found at https://github.com/pypa/pip/issues/6334\n"
          ]
        }
      ]
    },
    {
      "cell_type": "code",
      "source": [
        "%%bash\n",
        "set -e\n",
        "cd /content/gaussian-splatting\n",
        "mkdir -p data\n",
        "curl -L -o data/tandt_db.zip https://repo-sam.inria.fr/fungraph/3d-gaussian-splatting/datasets/input/tandt_db.zip\n",
        "unzip -q -o data/tandt_db.zip -d data/tandt_db\n",
        "find data/tandt_db -maxdepth 2 -type d -print"
      ],
      "metadata": {
        "colab": {
          "base_uri": "https://localhost:8080/"
        },
        "id": "tzDfuqiK11Wm",
        "outputId": "89b85470-d730-46e6-adab-9c52ec2d05b3"
      },
      "execution_count": 7,
      "outputs": [
        {
          "output_type": "stream",
          "name": "stdout",
          "text": [
            "data/tandt_db\n",
            "data/tandt_db/db\n",
            "data/tandt_db/db/drjohnson\n",
            "data/tandt_db/db/playroom\n",
            "data/tandt_db/tandt\n",
            "data/tandt_db/tandt/truck\n",
            "data/tandt_db/tandt/train\n"
          ]
        },
        {
          "output_type": "stream",
          "name": "stderr",
          "text": [
            "  % Total    % Received % Xferd  Average Speed   Time    Time     Time  Current\n",
            "                                 Dload  Upload   Total   Spent    Left  Speed\n",
            "\r  0     0    0     0    0     0      0      0 --:--:-- --:--:-- --:--:--     0\r  0     0    0     0    0     0      0      0 --:--:-- --:--:-- --:--:--     0\r  0  651M    0  437k    0     0   289k      0  0:38:20  0:00:01  0:38:19  289k\r  1  651M    1 11.2M    0     0  4472k      0  0:02:29  0:00:02  0:02:27 4472k\r  4  651M    4 26.8M    0     0  7971k      0  0:01:23  0:00:03  0:01:20 7971k\r  6  651M    6 44.9M    0     0  10.1M      0  0:01:04  0:00:04  0:01:00 10.1M\r 10  651M   10 65.1M    0     0  11.8M      0  0:00:54  0:00:05  0:00:49 13.0M\r 13  651M   13 85.2M    0     0  13.2M      0  0:00:49  0:00:06  0:00:43 17.1M\r 16  651M   16  105M    0     0  14.1M      0  0:00:46  0:00:07  0:00:39 19.2M\r 19  651M   19  125M    0     0  14.8M      0  0:00:43  0:00:08  0:00:35 19.7M\r 22  651M   22  146M    0     0  15.5M      0  0:00:41  0:00:09  0:00:32 20.3M\r 25  651M   25  167M    0     0  16.0M      0  0:00:40  0:00:10  0:00:30 20.5M\r 27  651M   27  182M    0     0  15.9M      0  0:00:40  0:00:11  0:00:29 19.3M\r 29  651M   29  193M    0     0  15.5M      0  0:00:41  0:00:12  0:00:29 17.5M\r 31  651M   31  204M    0     0  15.2M      0  0:00:42  0:00:13  0:00:29 15.7M\r 33  651M   33  214M    0     0  14.8M      0  0:00:43  0:00:14  0:00:29 13.5M\r 34  651M   34  222M    0     0  14.3M      0  0:00:45  0:00:15  0:00:30 10.8M\r 34  651M   34  226M    0     0  13.7M      0  0:00:47  0:00:16  0:00:31 9159k\r 35  651M   35  232M    0     0  13.2M      0  0:00:48  0:00:17  0:00:31 7968k\r 36  651M   36  237M    0     0  12.8M      0  0:00:50  0:00:18  0:00:32 6756k\r 37  651M   37  242M    0     0  12.4M      0  0:00:52  0:00:19  0:00:33 5662k\r 37  651M   37  247M    0     0  12.0M      0  0:00:53  0:00:20  0:00:33 5140k\r 38  651M   38  251M    0     0  11.7M      0  0:00:55  0:00:21  0:00:34 5076k\r 39  651M   39  255M    0     0  11.3M      0  0:00:57  0:00:22  0:00:35 4826k\r 39  651M   39  258M    0     0  11.0M      0  0:00:58  0:00:23  0:00:35 4354k\r 40  651M   40  262M    0     0  10.7M      0  0:01:00  0:00:24  0:00:36 4138k\r 40  651M   40  265M    0     0  10.4M      0  0:01:02  0:00:25  0:00:37 3775k\r 41  651M   41  268M    0     0  10.1M      0  0:01:04  0:00:26  0:00:38 3437k\r 41  651M   41  271M    0     0   9.8M      0  0:01:05  0:00:27  0:00:38 3306k\r 42  651M   42  275M    0     0  9885k      0  0:01:07  0:00:28  0:00:39 3270k\r 42  651M   42  278M    0     0  9665k      0  0:01:08  0:00:29  0:00:39 3136k\r 43  651M   43  281M    0     0  9452k      0  0:01:10  0:00:30  0:00:40 3156k\r 43  651M   43  283M    0     0  9225k      0  0:01:12  0:00:31  0:00:41 3051k\r 43  651M   43  286M    0     0  9025k      0  0:01:13  0:00:32  0:00:41 2970k\r 44  651M   44  289M    0     0  8859k      0  0:01:15  0:00:33  0:00:42 2969k\r 44  651M   44  292M    0     0  8680k      0  0:01:16  0:00:34  0:00:42 2902k\r 45  651M   45  294M    0     0  8484k      0  0:01:18  0:00:35  0:00:43 2651k\r 45  651M   45  296M    0     0  8324k      0  0:01:20  0:00:36  0:00:44 2634k\r 45  651M   45  298M    0     0  8152k      0  0:01:21  0:00:37  0:00:44 2451k\r 46  651M   46  300M    0     0  7991k      0  0:01:23  0:00:38  0:00:45 2229k\r 46  651M   46  302M    0     0  7850k      0  0:01:24  0:00:39  0:00:45 2101k\r 46  651M   46  304M    0     0  7706k      0  0:01:26  0:00:40  0:00:46 2150k\r 47  651M   47  306M    0     0  7572k      0  0:01:28  0:00:41  0:00:47 2092k\r 47  651M   47  308M    0     0  7446k      0  0:01:29  0:00:42  0:00:47 2138k\r 47  651M   47  310M    0     0  7323k      0  0:01:31  0:00:43  0:00:48 2154k\r 48  651M   48  313M    0     0  7208k      0  0:01:32  0:00:44  0:00:48 2178k\r 48  651M   48  315M    0     0  7112k      0  0:01:33  0:00:45  0:00:48 2283k\r 48  651M   48  318M    0     0  7019k      0  0:01:34  0:00:46  0:00:48 2459k\r 49  651M   49  321M    0     0  6940k      0  0:01:36  0:00:47  0:00:49 2645k\r 50  651M   50  325M    0     0  6877k      0  0:01:36  0:00:48  0:00:48 3006k\r 50  651M   50  330M    0     0  6833k      0  0:01:37  0:00:49  0:00:48 3477k\r 51  651M   51  334M    0     0  6784k      0  0:01:38  0:00:50  0:00:48 3823k\r 52  651M   52  338M    0     0  6744k      0  0:01:38  0:00:51  0:00:47 4177k\r 52  651M   52  343M    0     0  6707k      0  0:01:39  0:00:52  0:00:47 4511k\r 53  651M   53  347M    0     0  6655k      0  0:01:40  0:00:53  0:00:47 4497k\r 53  651M   53  351M    0     0  6604k      0  0:01:40  0:00:54  0:00:46 4340k\r 54  651M   54  355M    0     0  6559k      0  0:01:41  0:00:55  0:00:46 4274k\r 55  651M   55  359M    0     0  6517k      0  0:01:42  0:00:56  0:00:46 4193k\r 55  651M   55  363M    0     0  6483k      0  0:01:42  0:00:57  0:00:45 4120k\r 56  651M   56  368M    0     0  6446k      0  0:01:43  0:00:58  0:00:45 4214k\r 57  651M   57  371M    0     0  6407k      0  0:01:44  0:00:59  0:00:45 4251k\r 57  651M   57  376M    0     0  6371k      0  0:01:44  0:01:00  0:00:44 4292k\r 58  651M   58  380M    0     0  6339k      0  0:01:45  0:01:01  0:00:44 4315k\r 59  651M   59  384M    0     0  6308k      0  0:01:45  0:01:02  0:00:43 4303k\r 59  651M   59  389M    0     0  6286k      0  0:01:46  0:01:03  0:00:43 4409k\r 60  651M   60  394M    0     0  6261k      0  0:01:46  0:01:04  0:00:42 4528k\r 61  651M   61  397M    0     0  6220k      0  0:01:47  0:01:05  0:00:42 4382k\r 61  651M   61  401M    0     0  6177k      0  0:01:47  0:01:06  0:00:41 4200k\r 62  651M   62  404M    0     0  6133k      0  0:01:48  0:01:07  0:00:41 3942k\r 62  651M   62  407M    0     0  6092k      0  0:01:49  0:01:08  0:00:41 3652k\r 63  651M   63  410M    0     0  6059k      0  0:01:50  0:01:09  0:00:41 3446k\r 63  651M   63  413M    0     0  6015k      0  0:01:50  0:01:10  0:00:40 3328k\r 63  651M   63  416M    0     0  5971k      0  0:01:51  0:01:11  0:00:40 3210k\r 64  651M   64  419M    0     0  5931k      0  0:01:52  0:01:12  0:00:40 3207k\r 64  651M   64  422M    0     0  5896k      0  0:01:53  0:01:13  0:00:40 3188k\r 65  651M   65  426M    0     0  5862k      0  0:01:53  0:01:14  0:00:39 3155k\r 66  651M   66  429M    0     0  5835k      0  0:01:54  0:01:15  0:00:39 3300k\r 66  651M   66  433M    0     0  5803k      0  0:01:54  0:01:16  0:00:38 3403k\r 67  651M   67  436M    0     0  5775k      0  0:01:55  0:01:17  0:00:38 3505k\r 67  651M   67  440M    0     0  5746k      0  0:01:56  0:01:18  0:00:38 3548k\r 68  651M   68  443M    0     0  5718k      0  0:01:56  0:01:19  0:00:37 3558k\r 68  651M   68  447M    0     0  5692k      0  0:01:57  0:01:20  0:00:37 3556k\r 69  651M   69  451M    0     0  5673k      0  0:01:57  0:01:21  0:00:36 3684k\r 69  651M   69  455M    0     0  5652k      0  0:01:57  0:01:22  0:00:35 3742k\r 70  651M   70  458M    0     0  5629k      0  0:01:58  0:01:23  0:00:35 3791k\r 71  651M   71  462M    0     0  5604k      0  0:01:58  0:01:24  0:00:34 3790k\r 71  651M   71  466M    0     0  5584k      0  0:01:59  0:01:25  0:00:34 3827k\r 72  651M   72  469M    0     0  5560k      0  0:01:59  0:01:26  0:00:33 3723k\r 72  651M   72  472M    0     0  5533k      0  0:02:00  0:01:27  0:00:33 3577k\r 73  651M   73  475M    0     0  5508k      0  0:02:01  0:01:28  0:00:33 3484k\r 73  651M   73  479M    0     0  5484k      0  0:02:01  0:01:29  0:00:32 3472k\r 74  651M   74  482M    0     0  5463k      0  0:02:02  0:01:30  0:00:32 3403k\r 74  651M   74  486M    0     0  5442k      0  0:02:02  0:01:31  0:00:31 3396k\r 75  651M   75  489M    0     0  5421k      0  0:02:02  0:01:32  0:00:30 3474k\r 75  651M   75  493M    0     0  5402k      0  0:02:03  0:01:33  0:00:30 3529k\r 76  651M   76  496M    0     0  5383k      0  0:02:03  0:01:34  0:00:29 3554k\r 76  651M   76  500M    0     0  5364k      0  0:02:04  0:01:35  0:00:29 3572k\r 77  651M   77  503M    0     0  5349k      0  0:02:04  0:01:36  0:00:28 3653k\r 78  651M   78  507M    0     0  5336k      0  0:02:04  0:01:37  0:00:27 3754k\r 78  651M   78  512M    0     0  5329k      0  0:02:05  0:01:38  0:00:27 3979k\r 79  651M   79  517M    0     0  5328k      0  0:02:05  0:01:39  0:00:26 4307k\r 80  651M   80  523M    0     0  5335k      0  0:02:04  0:01:40  0:00:24 4782k\r 81  651M   81  530M    0     0  5348k      0  0:02:04  0:01:41  0:00:23 5343k\r 82  651M   82  537M    0     0  5374k      0  0:02:04  0:01:42  0:00:22 6122k\r 83  651M   83  546M    0     0  5411k      0  0:02:03  0:01:43  0:00:20 7018k\r 85  651M   85  555M    0     0  5444k      0  0:02:02  0:01:44  0:00:18 7740k\r 86  651M   86  563M    0     0  5473k      0  0:02:01  0:01:45  0:00:16 8239k\r 87  651M   87  572M    0     0  5508k      0  0:02:01  0:01:46  0:00:15 8768k\r 89  651M   89  582M    0     0  5546k      0  0:02:00  0:01:47  0:00:13 9060k\r 90  651M   90  591M    0     0  5585k      0  0:01:59  0:01:48  0:00:11 9167k\r 92  651M   92  601M    0     0  5628k      0  0:01:58  0:01:49  0:00:09 9475k\r 94  651M   94  612M    0     0  5673k      0  0:01:57  0:01:50  0:00:07 9883k\r 95  651M   95  622M    0     0  5720k      0  0:01:56  0:01:51  0:00:05  9.9M\r 97  651M   97  633M    0     0  5765k      0  0:01:55  0:01:52  0:00:03 10.2M\r 98  651M   98  643M    0     0  5806k      0  0:01:54  0:01:53  0:00:01 10.3M\r100  651M  100  651M    0     0  5837k      0  0:01:54  0:01:54 --:--:-- 10.4M\n"
          ]
        }
      ]
    },
    {
      "cell_type": "code",
      "source": [
        "from google.colab import files\n",
        "import os\n",
        "\n",
        "dst_map = {\n",
        "    \"train_densify.py\": \"/content/gaussian-splatting/train_densify.py\",\n",
        "    \"densify.py\": \"/content/gaussian-splatting/densify.py\",\n",
        "    \"diff_raster_surf.py\": \"/content/gaussian-splatting/diff_raster_surf.py\",\n",
        "    \"orientation_utils.py\": \"/content/gaussian-splatting/utils/orientation_utils.py\",\n",
        "    \"perf_utils.py\": \"/content/gaussian-splatting/utils/perf_utils.py\",\n",
        "    \"__init__.py\": \"/content/gaussian-splatting/arguments/__init__.py\",\n",
        "}\n",
        "\n",
        "print(\"Upload these files from your local repo:\")\n",
        "for k in dst_map: print(\" -\", k)\n",
        "\n",
        "uploaded = files.upload()\n",
        "for name, content in uploaded.items():\n",
        "    if name not in dst_map:\n",
        "        print(\"Skipping unexpected file:\", name); continue\n",
        "    os.makedirs(os.path.dirname(dst_map[name]), exist_ok=True)\n",
        "    with open(dst_map[name], \"wb\") as f:\n",
        "        f.write(content)\n",
        "    print(\"Wrote:\", dst_map[name])\n",
        "print(\"Overlay complete.\")"
      ],
      "metadata": {
        "colab": {
          "base_uri": "https://localhost:8080/",
          "height": 234
        },
        "id": "nWDeT2sW3OXq",
        "outputId": "beb2ccc2-9e98-4623-83ef-f7bb9187b91c"
      },
      "execution_count": 11,
      "outputs": [
        {
          "output_type": "stream",
          "name": "stdout",
          "text": [
            "Upload these files from your local repo:\n",
            " - train_densify.py\n",
            " - densify.py\n",
            " - diff_raster_surf.py\n",
            " - orientation_utils.py\n",
            " - perf_utils.py\n",
            " - __init__.py\n"
          ]
        },
        {
          "output_type": "display_data",
          "data": {
            "text/plain": [
              "<IPython.core.display.HTML object>"
            ],
            "text/html": [
              "\n",
              "     <input type=\"file\" id=\"files-12ebb6e8-3b11-49ec-9b75-8265cda075e1\" name=\"files[]\" multiple disabled\n",
              "        style=\"border:none\" />\n",
              "     <output id=\"result-12ebb6e8-3b11-49ec-9b75-8265cda075e1\">\n",
              "      Upload widget is only available when the cell has been executed in the\n",
              "      current browser session. Please rerun this cell to enable.\n",
              "      </output>\n",
              "      <script>// Copyright 2017 Google LLC\n",
              "//\n",
              "// Licensed under the Apache License, Version 2.0 (the \"License\");\n",
              "// you may not use this file except in compliance with the License.\n",
              "// You may obtain a copy of the License at\n",
              "//\n",
              "//      http://www.apache.org/licenses/LICENSE-2.0\n",
              "//\n",
              "// Unless required by applicable law or agreed to in writing, software\n",
              "// distributed under the License is distributed on an \"AS IS\" BASIS,\n",
              "// WITHOUT WARRANTIES OR CONDITIONS OF ANY KIND, either express or implied.\n",
              "// See the License for the specific language governing permissions and\n",
              "// limitations under the License.\n",
              "\n",
              "/**\n",
              " * @fileoverview Helpers for google.colab Python module.\n",
              " */\n",
              "(function(scope) {\n",
              "function span(text, styleAttributes = {}) {\n",
              "  const element = document.createElement('span');\n",
              "  element.textContent = text;\n",
              "  for (const key of Object.keys(styleAttributes)) {\n",
              "    element.style[key] = styleAttributes[key];\n",
              "  }\n",
              "  return element;\n",
              "}\n",
              "\n",
              "// Max number of bytes which will be uploaded at a time.\n",
              "const MAX_PAYLOAD_SIZE = 100 * 1024;\n",
              "\n",
              "function _uploadFiles(inputId, outputId) {\n",
              "  const steps = uploadFilesStep(inputId, outputId);\n",
              "  const outputElement = document.getElementById(outputId);\n",
              "  // Cache steps on the outputElement to make it available for the next call\n",
              "  // to uploadFilesContinue from Python.\n",
              "  outputElement.steps = steps;\n",
              "\n",
              "  return _uploadFilesContinue(outputId);\n",
              "}\n",
              "\n",
              "// This is roughly an async generator (not supported in the browser yet),\n",
              "// where there are multiple asynchronous steps and the Python side is going\n",
              "// to poll for completion of each step.\n",
              "// This uses a Promise to block the python side on completion of each step,\n",
              "// then passes the result of the previous step as the input to the next step.\n",
              "function _uploadFilesContinue(outputId) {\n",
              "  const outputElement = document.getElementById(outputId);\n",
              "  const steps = outputElement.steps;\n",
              "\n",
              "  const next = steps.next(outputElement.lastPromiseValue);\n",
              "  return Promise.resolve(next.value.promise).then((value) => {\n",
              "    // Cache the last promise value to make it available to the next\n",
              "    // step of the generator.\n",
              "    outputElement.lastPromiseValue = value;\n",
              "    return next.value.response;\n",
              "  });\n",
              "}\n",
              "\n",
              "/**\n",
              " * Generator function which is called between each async step of the upload\n",
              " * process.\n",
              " * @param {string} inputId Element ID of the input file picker element.\n",
              " * @param {string} outputId Element ID of the output display.\n",
              " * @return {!Iterable<!Object>} Iterable of next steps.\n",
              " */\n",
              "function* uploadFilesStep(inputId, outputId) {\n",
              "  const inputElement = document.getElementById(inputId);\n",
              "  inputElement.disabled = false;\n",
              "\n",
              "  const outputElement = document.getElementById(outputId);\n",
              "  outputElement.innerHTML = '';\n",
              "\n",
              "  const pickedPromise = new Promise((resolve) => {\n",
              "    inputElement.addEventListener('change', (e) => {\n",
              "      resolve(e.target.files);\n",
              "    });\n",
              "  });\n",
              "\n",
              "  const cancel = document.createElement('button');\n",
              "  inputElement.parentElement.appendChild(cancel);\n",
              "  cancel.textContent = 'Cancel upload';\n",
              "  const cancelPromise = new Promise((resolve) => {\n",
              "    cancel.onclick = () => {\n",
              "      resolve(null);\n",
              "    };\n",
              "  });\n",
              "\n",
              "  // Wait for the user to pick the files.\n",
              "  const files = yield {\n",
              "    promise: Promise.race([pickedPromise, cancelPromise]),\n",
              "    response: {\n",
              "      action: 'starting',\n",
              "    }\n",
              "  };\n",
              "\n",
              "  cancel.remove();\n",
              "\n",
              "  // Disable the input element since further picks are not allowed.\n",
              "  inputElement.disabled = true;\n",
              "\n",
              "  if (!files) {\n",
              "    return {\n",
              "      response: {\n",
              "        action: 'complete',\n",
              "      }\n",
              "    };\n",
              "  }\n",
              "\n",
              "  for (const file of files) {\n",
              "    const li = document.createElement('li');\n",
              "    li.append(span(file.name, {fontWeight: 'bold'}));\n",
              "    li.append(span(\n",
              "        `(${file.type || 'n/a'}) - ${file.size} bytes, ` +\n",
              "        `last modified: ${\n",
              "            file.lastModifiedDate ? file.lastModifiedDate.toLocaleDateString() :\n",
              "                                    'n/a'} - `));\n",
              "    const percent = span('0% done');\n",
              "    li.appendChild(percent);\n",
              "\n",
              "    outputElement.appendChild(li);\n",
              "\n",
              "    const fileDataPromise = new Promise((resolve) => {\n",
              "      const reader = new FileReader();\n",
              "      reader.onload = (e) => {\n",
              "        resolve(e.target.result);\n",
              "      };\n",
              "      reader.readAsArrayBuffer(file);\n",
              "    });\n",
              "    // Wait for the data to be ready.\n",
              "    let fileData = yield {\n",
              "      promise: fileDataPromise,\n",
              "      response: {\n",
              "        action: 'continue',\n",
              "      }\n",
              "    };\n",
              "\n",
              "    // Use a chunked sending to avoid message size limits. See b/62115660.\n",
              "    let position = 0;\n",
              "    do {\n",
              "      const length = Math.min(fileData.byteLength - position, MAX_PAYLOAD_SIZE);\n",
              "      const chunk = new Uint8Array(fileData, position, length);\n",
              "      position += length;\n",
              "\n",
              "      const base64 = btoa(String.fromCharCode.apply(null, chunk));\n",
              "      yield {\n",
              "        response: {\n",
              "          action: 'append',\n",
              "          file: file.name,\n",
              "          data: base64,\n",
              "        },\n",
              "      };\n",
              "\n",
              "      let percentDone = fileData.byteLength === 0 ?\n",
              "          100 :\n",
              "          Math.round((position / fileData.byteLength) * 100);\n",
              "      percent.textContent = `${percentDone}% done`;\n",
              "\n",
              "    } while (position < fileData.byteLength);\n",
              "  }\n",
              "\n",
              "  // All done.\n",
              "  yield {\n",
              "    response: {\n",
              "      action: 'complete',\n",
              "    }\n",
              "  };\n",
              "}\n",
              "\n",
              "scope.google = scope.google || {};\n",
              "scope.google.colab = scope.google.colab || {};\n",
              "scope.google.colab._files = {\n",
              "  _uploadFiles,\n",
              "  _uploadFilesContinue,\n",
              "};\n",
              "})(self);\n",
              "</script> "
            ]
          },
          "metadata": {}
        },
        {
          "output_type": "stream",
          "name": "stdout",
          "text": [
            "Saving __init__.py to __init__.py\n",
            "Wrote: /content/gaussian-splatting/arguments/__init__.py\n",
            "Overlay complete.\n"
          ]
        }
      ]
    },
    {
      "cell_type": "code",
      "source": [
        "import os, glob\n",
        "\n",
        "base = \"/content/gaussian-splatting/data/tandt_db\"\n",
        "\n",
        "# Candidate scene dirs up to two levels deep\n",
        "cands = [d for d in glob.glob(os.path.join(base, \"*\", \"*\")) if os.path.isdir(d)]\n",
        "valid = []\n",
        "for d in cands:\n",
        "    has_images = os.path.isdir(os.path.join(d, \"images\"))\n",
        "    has_sparse = os.path.isdir(os.path.join(d, \"sparse\"))\n",
        "    if has_images and has_sparse:\n",
        "        valid.append(d)\n",
        "\n",
        "print(\"Detected candidate scenes with COLMAP layout (images/ + sparse/):\")\n",
        "for v in valid:\n",
        "    print(\" \", v)\n",
        "\n",
        "assert valid, \"No valid scene found. Try increasing the search depth or re-check dataset extraction.\"\n",
        "SCENE_PATH = valid[0]\n",
        "print(\"Using SCENE_PATH:\", SCENE_PATH)"
      ],
      "metadata": {
        "colab": {
          "base_uri": "https://localhost:8080/"
        },
        "id": "GzwK7PZj8Me_",
        "outputId": "709f5886-f2a9-4338-bf51-6a675da09ca5"
      },
      "execution_count": 13,
      "outputs": [
        {
          "output_type": "stream",
          "name": "stdout",
          "text": [
            "Detected candidate scenes with COLMAP layout (images/ + sparse/):\n",
            "  /content/gaussian-splatting/data/tandt_db/db/drjohnson\n",
            "  /content/gaussian-splatting/data/tandt_db/db/playroom\n",
            "  /content/gaussian-splatting/data/tandt_db/tandt/truck\n",
            "  /content/gaussian-splatting/data/tandt_db/tandt/train\n",
            "Using SCENE_PATH: /content/gaussian-splatting/data/tandt_db/db/drjohnson\n"
          ]
        }
      ]
    },
    {
      "cell_type": "code",
      "source": [
        "import os, glob, subprocess, json, textwrap\n",
        "\n",
        "SCENE_PATH = \"/content/gaussian-splatting/data/tandt_db/db/playroom\"  # your path\n",
        "\n",
        "def check_scene(path):\n",
        "    print(\"SCENE_PATH:\", path)\n",
        "    print(\"Exists:\", os.path.isdir(path))\n",
        "    print(\"Has images/:\", os.path.isdir(os.path.join(path, \"images\")))\n",
        "    print(\"Has sparse/:\", os.path.isdir(os.path.join(path, \"sparse\")))\n",
        "    if os.path.isdir(os.path.join(path, \"sparse\")):\n",
        "        print(\"Sparse entries:\", os.listdir(os.path.join(path, \"sparse\"))[:10])\n",
        "    print(\"Top-level list:\", os.listdir(path)[:20])\n",
        "\n",
        "check_scene(SCENE_PATH)"
      ],
      "metadata": {
        "colab": {
          "base_uri": "https://localhost:8080/"
        },
        "id": "MXl35fr28_wc",
        "outputId": "60726509-89e8-47fc-9f2d-f5682bafe82d"
      },
      "execution_count": 16,
      "outputs": [
        {
          "output_type": "stream",
          "name": "stdout",
          "text": [
            "SCENE_PATH: /content/gaussian-splatting/data/tandt_db/db/playroom\n",
            "Exists: True\n",
            "Has images/: True\n",
            "Has sparse/: True\n",
            "Sparse entries: ['0']\n",
            "Top-level list: ['sparse', 'images']\n"
          ]
        }
      ]
    },
    {
      "cell_type": "code",
      "source": [
        "import subprocess\n",
        "cmd = [\n",
        "  \"python\", \"train_densify.py\",\n",
        "  \"-s\", SCENE_PATH,\n",
        "  \"--disable_viewer\",\n",
        "  \"--iterations\", \"2000\",\n",
        "  \"--enable_differentiable_rendering\",\n",
        "  \"--enable_adaptive_densify\",\n",
        "  \"--densify_clone_count\", \"2\",\n",
        "  \"--densify_jitter_scale\", \"0.5\",\n",
        "  \"--densify_scale_shrink\", \"0.8\",\n",
        "  \"--densify_orient_perturb_deg\", \"2.0\",\n",
        "  \"--perf_benchmark\", \"--target_fps\", \"25\"\n",
        "]\n",
        "print(\"Running:\\n\", \" \".join(cmd))\n",
        "proc = subprocess.Popen(cmd, cwd=\"/content/gaussian-splatting\")\n",
        "proc.wait()\n",
        "print(\"Exit code:\", proc.returncode)"
      ],
      "metadata": {
        "colab": {
          "base_uri": "https://localhost:8080/"
        },
        "id": "ZVpLE2WS3Z6F",
        "outputId": "26ab7ef8-0477-4646-f5f4-91fe85e478ca"
      },
      "execution_count": 14,
      "outputs": [
        {
          "output_type": "stream",
          "name": "stdout",
          "text": [
            "Running:\n",
            " python train_densify.py -s /content/gaussian-splatting/data/tandt_db/db/drjohnson --disable_viewer --iterations 2000 --enable_differentiable_rendering --enable_adaptive_densify --densify_clone_count 2 --densify_jitter_scale 0.5 --densify_scale_shrink 0.8 --densify_orient_perturb_deg 2.0 --perf_benchmark --target_fps 25\n",
            "Exit code: 1\n"
          ]
        }
      ]
    },
    {
      "cell_type": "code",
      "source": [],
      "metadata": {
        "id": "nfkao8Sc7MrH"
      },
      "execution_count": null,
      "outputs": []
    }
  ]
}